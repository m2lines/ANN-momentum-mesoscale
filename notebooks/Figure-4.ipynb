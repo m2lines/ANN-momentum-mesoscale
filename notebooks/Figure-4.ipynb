{
 "cells": [
  {
   "cell_type": "code",
   "execution_count": 1,
   "id": "bc97b77d-3e30-4b6b-9d1c-e466fa8a0ce5",
   "metadata": {},
   "outputs": [],
   "source": [
    "import sys\n",
    "sys.path.append('../src/analysis-of-global-ocean')\n",
    "%load_ext autoreload\n",
    "%autoreload 3\n",
    "\n",
    "import xarray as xr\n",
    "import matplotlib.pyplot as plt\n",
    "from dask.diagnostics import ProgressBar\n",
    "\n",
    "from helpers.collection_of_experiments import CollectionOfExperiments\n",
    "from helpers.computational_tools import *\n",
    "from helpers.plot_helpers import default_rcParams"
   ]
  },
  {
   "cell_type": "code",
   "execution_count": 3,
   "id": "2062d027-d6d3-4402-b840-a122fcfa3887",
   "metadata": {},
   "outputs": [],
   "source": [
    "ds = CollectionOfExperiments.init_folder('/scratch/js15017/OM4_storage/CORE-AIF-runs', additional_subfolder='', Averaging_time=slice('1981', '2007'))"
   ]
  },
  {
   "cell_type": "markdown",
   "id": "f48f7e7b-5b8d-4dfe-85a1-3ef476e35c3f",
   "metadata": {},
   "source": [
    "## OM4 grid information"
   ]
  },
  {
   "cell_type": "code",
   "execution_count": 5,
   "id": "7c53b1da-c384-4aa2-bf94-f9b5782b7ef0",
   "metadata": {},
   "outputs": [],
   "source": [
    "param = ds['unparameterized'].param\n",
    "dz = ds['unparameterized'].dz\n",
    "mask_nan = xr.where(np.isnan(ds['MEKE-Chang'].ocean_annual_z.thetao.isel(time=0)), np.nan, 1.).compute()\n",
    "dV = mask_nan * param.areacello * dz"
   ]
  },
  {
   "cell_type": "markdown",
   "id": "34ace9c0-31e8-4248-ae40-30decbce3a25",
   "metadata": {},
   "source": [
    "## Globally-average potential temperature"
   ]
  },
  {
   "cell_type": "code",
   "execution_count": 12,
   "id": "a0d6bac7-fb2c-4b20-9b21-2949696cc0be",
   "metadata": {},
   "outputs": [],
   "source": [
    "# Define 3D average\n",
    "def ave(x):\n",
    "    return (x * dV).sum(['zl','xh','yh']) / dV.sum(['zl', 'xh', 'yh'])"
   ]
  },
  {
   "cell_type": "code",
   "execution_count": 13,
   "id": "2e538ea2-c821-4c8f-9a07-969fcd8afcc4",
   "metadata": {},
   "outputs": [],
   "source": [
    "obs = xr.open_dataset('../src/analysis-of-global-ocean/data/woa18_decav81B0_t00_01.nc', decode_times=False).squeeze()"
   ]
  },
  {
   "cell_type": "code",
   "execution_count": 18,
   "id": "b011c9cb-fb33-44fa-8b87-e0df7e19429c",
   "metadata": {},
   "outputs": [],
   "source": [
    "# 3D average for observations\n",
    "dz_obs = xr.DataArray(np.diff(obs.depth_bnds,1).squeeze(), dims='depth')\n",
    "\n",
    "# WOA uses 1-degree grid\n",
    "lon_spacing = 1\n",
    "lat_spacing = 1\n",
    "R_earth = 6.378e+6 # Radius of earth in metres\n",
    "\n",
    "dx_obs = np.deg2rad(lon_spacing) * R_earth * np.cos(np.deg2rad(obs.lat))\n",
    "dy_obs = np.deg2rad(lat_spacing) * R_earth\n",
    "mask_nan = xr.where(np.isnan(obs.t_an), np.nan, 1.).compute()\n",
    "dV_obs = mask_nan * dx_obs * dy_obs * dz_obs\n",
    "\n",
    "def ave_obs(x):\n",
    "    return (x * dV_obs).sum(['depth','lon','lat']) / dV_obs.sum(['depth', 'lon', 'lat'])"
   ]
  },
  {
   "cell_type": "code",
   "execution_count": 36,
   "id": "c7aab785-fb01-4d9c-8c16-fbb9937fd06d",
   "metadata": {},
   "outputs": [],
   "source": [
    "# Dictionary with metrics of global circulation\n",
    "metrics_dict = {}"
   ]
  },
  {
   "cell_type": "code",
   "execution_count": 37,
   "id": "9033554a-4b79-4d7c-ac64-719114121b84",
   "metadata": {},
   "outputs": [],
   "source": [
    "#WOA 18\n",
    "metrics_dict['temp-obs'] = float(ave_obs(obs.t_an))"
   ]
  },
  {
   "cell_type": "code",
   "execution_count": 38,
   "id": "069d2f44-3b39-47f5-8ef6-902807e9f85c",
   "metadata": {},
   "outputs": [
    {
     "name": "stdout",
     "output_type": "stream",
     "text": [
      "[########################################] | 100% Completed | 9.38 ss\n",
      "[########################################] | 100% Completed | 8.47 ss\n",
      "[########################################] | 100% Completed | 7.77 ss\n"
     ]
    }
   ],
   "source": [
    "# Compute global-averaged time series\n",
    "with ProgressBar():\n",
    "    for exp in ['unparameterized', 'ANN', 'MEKE-Chang']:\n",
    "        metrics_dict[f'temp-{exp}'] = float(ave(ds[exp].ocean_annual_z.thetao).sel(time=slice('1981','2007')).mean('time'))"
   ]
  },
  {
   "cell_type": "code",
   "execution_count": 39,
   "id": "f9795a5f-2305-40aa-a9e7-cf561ab6ed5d",
   "metadata": {},
   "outputs": [
    {
     "data": {
      "text/plain": [
       "{'temp-obs': 3.679951219264243,\n",
       " 'temp-unparameterized': 3.442140593465002,\n",
       " 'temp-ANN': 3.3422429933964417,\n",
       " 'temp-MEKE-Chang': 3.3728002115996145}"
      ]
     },
     "execution_count": 39,
     "metadata": {},
     "output_type": "execute_result"
    }
   ],
   "source": [
    "metrics_dict"
   ]
  },
  {
   "cell_type": "markdown",
   "id": "f757b4b1-bc56-43b9-849b-18438c8ba223",
   "metadata": {},
   "source": [
    "## KE and APE "
   ]
  },
  {
   "cell_type": "code",
   "execution_count": 40,
   "id": "0bcd4ff2-2fca-43b0-a5d5-f2648eb7128a",
   "metadata": {},
   "outputs": [],
   "source": [
    "for exp in ['unparameterized', 'ANN', 'MEKE-Chang']:\n",
    "    metrics_dict[f'KE-{exp}'] = ds[exp].series.KE.sum('Layer')[-27*365*4:].mean().data * 1e-18\n",
    "    metrics_dict[f'APE-{exp}'] = ds[exp].series.APE.sum('Interface')[-27*365*4:].mean().data * 1e-20"
   ]
  },
  {
   "cell_type": "code",
   "execution_count": 41,
   "id": "1149cb5c-f77a-4a53-a1c0-c915fb6e1623",
   "metadata": {},
   "outputs": [
    {
     "data": {
      "text/plain": [
       "{'temp-obs': 3.679951219264243,\n",
       " 'temp-unparameterized': 3.442140593465002,\n",
       " 'temp-ANN': 3.3422429933964417,\n",
       " 'temp-MEKE-Chang': 3.3728002115996145,\n",
       " 'KE-unparameterized': 2.721916443209208,\n",
       " 'APE-unparameterized': 3.880766853530472,\n",
       " 'KE-ANN': 3.9054452982347043,\n",
       " 'APE-ANN': 3.6427134435923083,\n",
       " 'KE-MEKE-Chang': 3.597673811836249,\n",
       " 'APE-MEKE-Chang': 3.6433594199240464}"
      ]
     },
     "execution_count": 41,
     "metadata": {},
     "output_type": "execute_result"
    }
   ],
   "source": [
    "metrics_dict"
   ]
  },
  {
   "cell_type": "markdown",
   "id": "815abe1a-aeae-4959-af95-9a4361806bfe",
   "metadata": {},
   "source": [
    "## ACC transport"
   ]
  },
  {
   "cell_type": "code",
   "execution_count": 42,
   "id": "900d11a1-b826-4634-b998-1c13740550ac",
   "metadata": {},
   "outputs": [],
   "source": [
    "# See cDrake also for error bounds https://agupubs.onlinelibrary.wiley.com/doi/pdf/10.1002/2016GL070319\n",
    "metrics_dict['ACC-obs'] = 173.3"
   ]
  },
  {
   "cell_type": "code",
   "execution_count": 43,
   "id": "e2d76ce7-c545-44f6-9576-137e6d9c1819",
   "metadata": {},
   "outputs": [],
   "source": [
    "# ACC transport at 70W\n",
    "for exp in ['unparameterized', 'ANN', 'MEKE-Chang']:\n",
    "    metrics_dict[f'ACC-{exp}'] = float(1e-9 * ds[exp].ocean_annual_z.umo.sel(xq=-70, method='nearest').sel(yh=slice(-71,-54.5)).sum(['yh','zl']).sel(time=slice('1981','2007')).mean('time'))"
   ]
  },
  {
   "cell_type": "code",
   "execution_count": 45,
   "id": "1df23816-bda1-4e93-8d73-939093155d57",
   "metadata": {},
   "outputs": [
    {
     "data": {
      "text/plain": [
       "{'temp-obs': 3.679951219264243,\n",
       " 'temp-unparameterized': 3.442140593465002,\n",
       " 'temp-ANN': 3.3422429933964417,\n",
       " 'temp-MEKE-Chang': 3.3728002115996145,\n",
       " 'KE-unparameterized': 2.721916443209208,\n",
       " 'APE-unparameterized': 3.880766853530472,\n",
       " 'KE-ANN': 3.9054452982347043,\n",
       " 'APE-ANN': 3.6427134435923083,\n",
       " 'KE-MEKE-Chang': 3.597673811836249,\n",
       " 'APE-MEKE-Chang': 3.6433594199240464,\n",
       " 'ACC-obs': 173.3,\n",
       " 'ACC-unparameterized': 154.56248474121094,\n",
       " 'ACC-ANN': 126.55327606201172,\n",
       " 'ACC-MEKE-Chang': 126.72998809814453}"
      ]
     },
     "execution_count": 45,
     "metadata": {},
     "output_type": "execute_result"
    }
   ],
   "source": [
    "metrics_dict"
   ]
  },
  {
   "cell_type": "markdown",
   "id": "fef3155e-eff8-4779-8392-e5c2ad91b653",
   "metadata": {},
   "source": [
    "# AMOC strength"
   ]
  },
  {
   "cell_type": "code",
   "execution_count": 56,
   "id": "c2e94b26-f5ef-4bec-9a9f-e19746b0a856",
   "metadata": {},
   "outputs": [],
   "source": [
    "# AMOC RAPID yearly averaged 2004-2021\n",
    "metrics_dict['AMOC-obs'] = float(xr.open_dataset('../src/analysis-of-global-ocean/data/AMOC_26p5_max_RAPID_annual_2004-2021.nc').AMOC.mean('time'))"
   ]
  },
  {
   "cell_type": "code",
   "execution_count": 108,
   "id": "1c9d7eb2-dd91-4f07-9038-ca66bf4eb8a3",
   "metadata": {},
   "outputs": [
    {
     "data": {
      "text/html": [
       "<div><svg style=\"position: absolute; width: 0; height: 0; overflow: hidden\">\n",
       "<defs>\n",
       "<symbol id=\"icon-database\" viewBox=\"0 0 32 32\">\n",
       "<path d=\"M16 0c-8.837 0-16 2.239-16 5v4c0 2.761 7.163 5 16 5s16-2.239 16-5v-4c0-2.761-7.163-5-16-5z\"></path>\n",
       "<path d=\"M16 17c-8.837 0-16-2.239-16-5v6c0 2.761 7.163 5 16 5s16-2.239 16-5v-6c0 2.761-7.163 5-16 5z\"></path>\n",
       "<path d=\"M16 26c-8.837 0-16-2.239-16-5v6c0 2.761 7.163 5 16 5s16-2.239 16-5v-6c0 2.761-7.163 5-16 5z\"></path>\n",
       "</symbol>\n",
       "<symbol id=\"icon-file-text2\" viewBox=\"0 0 32 32\">\n",
       "<path d=\"M28.681 7.159c-0.694-0.947-1.662-2.053-2.724-3.116s-2.169-2.030-3.116-2.724c-1.612-1.182-2.393-1.319-2.841-1.319h-15.5c-1.378 0-2.5 1.121-2.5 2.5v27c0 1.378 1.122 2.5 2.5 2.5h23c1.378 0 2.5-1.122 2.5-2.5v-19.5c0-0.448-0.137-1.23-1.319-2.841zM24.543 5.457c0.959 0.959 1.712 1.825 2.268 2.543h-4.811v-4.811c0.718 0.556 1.584 1.309 2.543 2.268zM28 29.5c0 0.271-0.229 0.5-0.5 0.5h-23c-0.271 0-0.5-0.229-0.5-0.5v-27c0-0.271 0.229-0.5 0.5-0.5 0 0 15.499-0 15.5 0v7c0 0.552 0.448 1 1 1h7v19.5z\"></path>\n",
       "<path d=\"M23 26h-14c-0.552 0-1-0.448-1-1s0.448-1 1-1h14c0.552 0 1 0.448 1 1s-0.448 1-1 1z\"></path>\n",
       "<path d=\"M23 22h-14c-0.552 0-1-0.448-1-1s0.448-1 1-1h14c0.552 0 1 0.448 1 1s-0.448 1-1 1z\"></path>\n",
       "<path d=\"M23 18h-14c-0.552 0-1-0.448-1-1s0.448-1 1-1h14c0.552 0 1 0.448 1 1s-0.448 1-1 1z\"></path>\n",
       "</symbol>\n",
       "</defs>\n",
       "</svg>\n",
       "<style>/* CSS stylesheet for displaying xarray objects in jupyterlab.\n",
       " *\n",
       " */\n",
       "\n",
       ":root {\n",
       "  --xr-font-color0: var(--jp-content-font-color0, rgba(0, 0, 0, 1));\n",
       "  --xr-font-color2: var(--jp-content-font-color2, rgba(0, 0, 0, 0.54));\n",
       "  --xr-font-color3: var(--jp-content-font-color3, rgba(0, 0, 0, 0.38));\n",
       "  --xr-border-color: var(--jp-border-color2, #e0e0e0);\n",
       "  --xr-disabled-color: var(--jp-layout-color3, #bdbdbd);\n",
       "  --xr-background-color: var(--jp-layout-color0, white);\n",
       "  --xr-background-color-row-even: var(--jp-layout-color1, white);\n",
       "  --xr-background-color-row-odd: var(--jp-layout-color2, #eeeeee);\n",
       "}\n",
       "\n",
       "html[theme=\"dark\"],\n",
       "html[data-theme=\"dark\"],\n",
       "body[data-theme=\"dark\"],\n",
       "body.vscode-dark {\n",
       "  --xr-font-color0: rgba(255, 255, 255, 1);\n",
       "  --xr-font-color2: rgba(255, 255, 255, 0.54);\n",
       "  --xr-font-color3: rgba(255, 255, 255, 0.38);\n",
       "  --xr-border-color: #1f1f1f;\n",
       "  --xr-disabled-color: #515151;\n",
       "  --xr-background-color: #111111;\n",
       "  --xr-background-color-row-even: #111111;\n",
       "  --xr-background-color-row-odd: #313131;\n",
       "}\n",
       "\n",
       ".xr-wrap {\n",
       "  display: block !important;\n",
       "  min-width: 300px;\n",
       "  max-width: 700px;\n",
       "}\n",
       "\n",
       ".xr-text-repr-fallback {\n",
       "  /* fallback to plain text repr when CSS is not injected (untrusted notebook) */\n",
       "  display: none;\n",
       "}\n",
       "\n",
       ".xr-header {\n",
       "  padding-top: 6px;\n",
       "  padding-bottom: 6px;\n",
       "  margin-bottom: 4px;\n",
       "  border-bottom: solid 1px var(--xr-border-color);\n",
       "}\n",
       "\n",
       ".xr-header > div,\n",
       ".xr-header > ul {\n",
       "  display: inline;\n",
       "  margin-top: 0;\n",
       "  margin-bottom: 0;\n",
       "}\n",
       "\n",
       ".xr-obj-type,\n",
       ".xr-array-name {\n",
       "  margin-left: 2px;\n",
       "  margin-right: 10px;\n",
       "}\n",
       "\n",
       ".xr-obj-type {\n",
       "  color: var(--xr-font-color2);\n",
       "}\n",
       "\n",
       ".xr-sections {\n",
       "  padding-left: 0 !important;\n",
       "  display: grid;\n",
       "  grid-template-columns: 150px auto auto 1fr 0 20px 0 20px;\n",
       "}\n",
       "\n",
       ".xr-section-item {\n",
       "  display: contents;\n",
       "}\n",
       "\n",
       ".xr-section-item input {\n",
       "  display: inline-block;\n",
       "  opacity: 0;\n",
       "  height: 0;\n",
       "}\n",
       "\n",
       ".xr-section-item input + label {\n",
       "  color: var(--xr-disabled-color);\n",
       "}\n",
       "\n",
       ".xr-section-item input:enabled + label {\n",
       "  cursor: pointer;\n",
       "  color: var(--xr-font-color2);\n",
       "}\n",
       "\n",
       ".xr-section-item input:focus + label {\n",
       "  border: 2px solid var(--xr-font-color0);\n",
       "}\n",
       "\n",
       ".xr-section-item input:enabled + label:hover {\n",
       "  color: var(--xr-font-color0);\n",
       "}\n",
       "\n",
       ".xr-section-summary {\n",
       "  grid-column: 1;\n",
       "  color: var(--xr-font-color2);\n",
       "  font-weight: 500;\n",
       "}\n",
       "\n",
       ".xr-section-summary > span {\n",
       "  display: inline-block;\n",
       "  padding-left: 0.5em;\n",
       "}\n",
       "\n",
       ".xr-section-summary-in:disabled + label {\n",
       "  color: var(--xr-font-color2);\n",
       "}\n",
       "\n",
       ".xr-section-summary-in + label:before {\n",
       "  display: inline-block;\n",
       "  content: \"►\";\n",
       "  font-size: 11px;\n",
       "  width: 15px;\n",
       "  text-align: center;\n",
       "}\n",
       "\n",
       ".xr-section-summary-in:disabled + label:before {\n",
       "  color: var(--xr-disabled-color);\n",
       "}\n",
       "\n",
       ".xr-section-summary-in:checked + label:before {\n",
       "  content: \"▼\";\n",
       "}\n",
       "\n",
       ".xr-section-summary-in:checked + label > span {\n",
       "  display: none;\n",
       "}\n",
       "\n",
       ".xr-section-summary,\n",
       ".xr-section-inline-details {\n",
       "  padding-top: 4px;\n",
       "  padding-bottom: 4px;\n",
       "}\n",
       "\n",
       ".xr-section-inline-details {\n",
       "  grid-column: 2 / -1;\n",
       "}\n",
       "\n",
       ".xr-section-details {\n",
       "  display: none;\n",
       "  grid-column: 1 / -1;\n",
       "  margin-bottom: 5px;\n",
       "}\n",
       "\n",
       ".xr-section-summary-in:checked ~ .xr-section-details {\n",
       "  display: contents;\n",
       "}\n",
       "\n",
       ".xr-array-wrap {\n",
       "  grid-column: 1 / -1;\n",
       "  display: grid;\n",
       "  grid-template-columns: 20px auto;\n",
       "}\n",
       "\n",
       ".xr-array-wrap > label {\n",
       "  grid-column: 1;\n",
       "  vertical-align: top;\n",
       "}\n",
       "\n",
       ".xr-preview {\n",
       "  color: var(--xr-font-color3);\n",
       "}\n",
       "\n",
       ".xr-array-preview,\n",
       ".xr-array-data {\n",
       "  padding: 0 5px !important;\n",
       "  grid-column: 2;\n",
       "}\n",
       "\n",
       ".xr-array-data,\n",
       ".xr-array-in:checked ~ .xr-array-preview {\n",
       "  display: none;\n",
       "}\n",
       "\n",
       ".xr-array-in:checked ~ .xr-array-data,\n",
       ".xr-array-preview {\n",
       "  display: inline-block;\n",
       "}\n",
       "\n",
       ".xr-dim-list {\n",
       "  display: inline-block !important;\n",
       "  list-style: none;\n",
       "  padding: 0 !important;\n",
       "  margin: 0;\n",
       "}\n",
       "\n",
       ".xr-dim-list li {\n",
       "  display: inline-block;\n",
       "  padding: 0;\n",
       "  margin: 0;\n",
       "}\n",
       "\n",
       ".xr-dim-list:before {\n",
       "  content: \"(\";\n",
       "}\n",
       "\n",
       ".xr-dim-list:after {\n",
       "  content: \")\";\n",
       "}\n",
       "\n",
       ".xr-dim-list li:not(:last-child):after {\n",
       "  content: \",\";\n",
       "  padding-right: 5px;\n",
       "}\n",
       "\n",
       ".xr-has-index {\n",
       "  font-weight: bold;\n",
       "}\n",
       "\n",
       ".xr-var-list,\n",
       ".xr-var-item {\n",
       "  display: contents;\n",
       "}\n",
       "\n",
       ".xr-var-item > div,\n",
       ".xr-var-item label,\n",
       ".xr-var-item > .xr-var-name span {\n",
       "  background-color: var(--xr-background-color-row-even);\n",
       "  margin-bottom: 0;\n",
       "}\n",
       "\n",
       ".xr-var-item > .xr-var-name:hover span {\n",
       "  padding-right: 5px;\n",
       "}\n",
       "\n",
       ".xr-var-list > li:nth-child(odd) > div,\n",
       ".xr-var-list > li:nth-child(odd) > label,\n",
       ".xr-var-list > li:nth-child(odd) > .xr-var-name span {\n",
       "  background-color: var(--xr-background-color-row-odd);\n",
       "}\n",
       "\n",
       ".xr-var-name {\n",
       "  grid-column: 1;\n",
       "}\n",
       "\n",
       ".xr-var-dims {\n",
       "  grid-column: 2;\n",
       "}\n",
       "\n",
       ".xr-var-dtype {\n",
       "  grid-column: 3;\n",
       "  text-align: right;\n",
       "  color: var(--xr-font-color2);\n",
       "}\n",
       "\n",
       ".xr-var-preview {\n",
       "  grid-column: 4;\n",
       "}\n",
       "\n",
       ".xr-index-preview {\n",
       "  grid-column: 2 / 5;\n",
       "  color: var(--xr-font-color2);\n",
       "}\n",
       "\n",
       ".xr-var-name,\n",
       ".xr-var-dims,\n",
       ".xr-var-dtype,\n",
       ".xr-preview,\n",
       ".xr-attrs dt {\n",
       "  white-space: nowrap;\n",
       "  overflow: hidden;\n",
       "  text-overflow: ellipsis;\n",
       "  padding-right: 10px;\n",
       "}\n",
       "\n",
       ".xr-var-name:hover,\n",
       ".xr-var-dims:hover,\n",
       ".xr-var-dtype:hover,\n",
       ".xr-attrs dt:hover {\n",
       "  overflow: visible;\n",
       "  width: auto;\n",
       "  z-index: 1;\n",
       "}\n",
       "\n",
       ".xr-var-attrs,\n",
       ".xr-var-data,\n",
       ".xr-index-data {\n",
       "  display: none;\n",
       "  background-color: var(--xr-background-color) !important;\n",
       "  padding-bottom: 5px !important;\n",
       "}\n",
       "\n",
       ".xr-var-attrs-in:checked ~ .xr-var-attrs,\n",
       ".xr-var-data-in:checked ~ .xr-var-data,\n",
       ".xr-index-data-in:checked ~ .xr-index-data {\n",
       "  display: block;\n",
       "}\n",
       "\n",
       ".xr-var-data > table {\n",
       "  float: right;\n",
       "}\n",
       "\n",
       ".xr-var-name span,\n",
       ".xr-var-data,\n",
       ".xr-index-name div,\n",
       ".xr-index-data,\n",
       ".xr-attrs {\n",
       "  padding-left: 25px !important;\n",
       "}\n",
       "\n",
       ".xr-attrs,\n",
       ".xr-var-attrs,\n",
       ".xr-var-data,\n",
       ".xr-index-data {\n",
       "  grid-column: 1 / -1;\n",
       "}\n",
       "\n",
       "dl.xr-attrs {\n",
       "  padding: 0;\n",
       "  margin: 0;\n",
       "  display: grid;\n",
       "  grid-template-columns: 125px auto;\n",
       "}\n",
       "\n",
       ".xr-attrs dt,\n",
       ".xr-attrs dd {\n",
       "  padding: 0;\n",
       "  margin: 0;\n",
       "  float: left;\n",
       "  padding-right: 10px;\n",
       "  width: auto;\n",
       "}\n",
       "\n",
       ".xr-attrs dt {\n",
       "  font-weight: normal;\n",
       "  grid-column: 1;\n",
       "}\n",
       "\n",
       ".xr-attrs dt:hover span {\n",
       "  display: inline-block;\n",
       "  background: var(--xr-background-color);\n",
       "  padding-right: 10px;\n",
       "}\n",
       "\n",
       ".xr-attrs dd {\n",
       "  grid-column: 2;\n",
       "  white-space: pre-wrap;\n",
       "  word-break: break-all;\n",
       "}\n",
       "\n",
       ".xr-icon-database,\n",
       ".xr-icon-file-text2,\n",
       ".xr-no-icon {\n",
       "  display: inline-block;\n",
       "  vertical-align: middle;\n",
       "  width: 1em;\n",
       "  height: 1.5em !important;\n",
       "  stroke-width: 0;\n",
       "  stroke: currentColor;\n",
       "  fill: currentColor;\n",
       "}\n",
       "</style><pre class='xr-text-repr-fallback'>&lt;xarray.DataArray &#x27;AMOC&#x27; ()&gt; Size: 8B\n",
       "array(1.43214452)</pre><div class='xr-wrap' style='display:none'><div class='xr-header'><div class='xr-obj-type'>xarray.DataArray</div><div class='xr-array-name'>'AMOC'</div></div><ul class='xr-sections'><li class='xr-section-item'><div class='xr-array-wrap'><input id='section-534bb72a-8e69-40e1-8ea8-d65adbca227f' class='xr-array-in' type='checkbox' checked><label for='section-534bb72a-8e69-40e1-8ea8-d65adbca227f' title='Show/hide data repr'><svg class='icon xr-icon-database'><use xlink:href='#icon-database'></use></svg></label><div class='xr-array-preview xr-preview'><span>1.432</span></div><div class='xr-array-data'><pre>array(1.43214452)</pre></div></div></li><li class='xr-section-item'><input id='section-a71049ac-a7f4-4701-9681-3bd141b7b57f' class='xr-section-summary-in' type='checkbox' disabled ><label for='section-a71049ac-a7f4-4701-9681-3bd141b7b57f' class='xr-section-summary'  title='Expand/collapse section'>Coordinates: <span>(0)</span></label><div class='xr-section-inline-details'></div><div class='xr-section-details'><ul class='xr-var-list'></ul></div></li><li class='xr-section-item'><input id='section-59d5b44f-7415-4d98-a56c-6bb6ee08e187' class='xr-section-summary-in' type='checkbox' disabled ><label for='section-59d5b44f-7415-4d98-a56c-6bb6ee08e187' class='xr-section-summary'  title='Expand/collapse section'>Indexes: <span>(0)</span></label><div class='xr-section-inline-details'></div><div class='xr-section-details'><ul class='xr-var-list'></ul></div></li><li class='xr-section-item'><input id='section-8102a206-39e0-48e1-8bf5-c71d44729e3f' class='xr-section-summary-in' type='checkbox' disabled ><label for='section-8102a206-39e0-48e1-8bf5-c71d44729e3f' class='xr-section-summary'  title='Expand/collapse section'>Attributes: <span>(0)</span></label><div class='xr-section-inline-details'></div><div class='xr-section-details'><dl class='xr-attrs'></dl></div></li></ul></div></div>"
      ],
      "text/plain": [
       "<xarray.DataArray 'AMOC' ()> Size: 8B\n",
       "array(1.43214452)"
      ]
     },
     "execution_count": 108,
     "metadata": {},
     "output_type": "execute_result"
    }
   ],
   "source": [
    "#RAPID std:\n",
    "xr.open_dataset('../src/analysis-of-global-ocean/data/AMOC_26p5_max_RAPID_annual_2004-2021.nc').AMOC.std('time')"
   ]
  },
  {
   "cell_type": "code",
   "execution_count": 51,
   "id": "4568be8c-9358-433a-811f-d4d8a2dd0cf5",
   "metadata": {},
   "outputs": [
    {
     "name": "stdout",
     "output_type": "stream",
     "text": [
      "[########################################] | 100% Completed | 11.62 ss\n",
      "[########################################] | 100% Completed | 24.49 s\n",
      "[########################################] | 100% Completed | 24.71 s\n"
     ]
    }
   ],
   "source": [
    "# Compute AMOC with the package\n",
    "# We first compute maximum at lat 26.5N, and only then mean. Same as observational data.\n",
    "with ProgressBar():\n",
    "    for exp in ['unparameterized', 'ANN', 'MEKE-Chang']:\n",
    "        metrics_dict[f'AMOC-{exp}'] = float(ds[exp].AMOC_new.sel(yq=26.5,method='nearest').sel(time=slice('1981','2007')).max('zi').mean('time'))"
   ]
  },
  {
   "cell_type": "code",
   "execution_count": 74,
   "id": "1164aee4-9ac7-4286-b72b-bd6244189bf7",
   "metadata": {},
   "outputs": [
    {
     "name": "stdout",
     "output_type": "stream",
     "text": [
      "KE : unparameterized  =  2.72 , ANN  =  3.91 , MEKE-Chang  =  3.60 , \n",
      "APE : unparameterized  =  3.88 , ANN  =  3.64 , MEKE-Chang  =  3.64 , \n",
      "temp : unparameterized  =  3.44 , ANN  =  3.34 , MEKE-Chang  =  3.37 , obs  =  3.68 , \n",
      "ACC : unparameterized  =  154.56 , ANN  =  126.55 , MEKE-Chang  =  126.73 , obs  =  173.30 , \n",
      "AMOC : unparameterized  =  15.42 , ANN  =  13.19 , MEKE-Chang  =  13.85 , obs  =  16.85 , \n"
     ]
    }
   ],
   "source": [
    "for metric in ['KE', 'APE', 'temp', 'ACC', 'AMOC']:\n",
    "    print(metric, ': ', end=\"\") \n",
    "    for exp in ['unparameterized', 'ANN', 'MEKE-Chang', 'obs']:\n",
    "        try:\n",
    "            print(exp, \" = \", \"%.2f\" % metrics_dict[f'{metric}-{exp}'], \", \", end=\"\")\n",
    "        except:\n",
    "            pass\n",
    "\n",
    "    print()"
   ]
  },
  {
   "cell_type": "code",
   "execution_count": 77,
   "id": "e7ff3f35-4a5c-4604-a913-a75e6ec7d862",
   "metadata": {},
   "outputs": [],
   "source": [
    "with open(\"data/metrics_dict.json\", \"w\") as f:\n",
    "    json.dump(metrics_dict, f) "
   ]
  },
  {
   "cell_type": "code",
   "execution_count": 14,
   "id": "8a542ac8-4556-499f-af4a-ce535d4d9d6f",
   "metadata": {},
   "outputs": [
    {
     "data": {
      "image/png": "[encoded data removed]",
      "text/plain": [
       "<Figure size 1100x500 with 1 Axes>"
      ]
     },
     "metadata": {},
     "output_type": "display_data"
    }
   ],
   "source": [
    "default_rcParams(\n",
    "    {   'font.family': 'MathJax_Main',\n",
    "        'mathtext.fontset': 'cm',\n",
    "\n",
    "        'axes.formatter.use_mathtext': True,\n",
    "        \n",
    "        'savefig.bbox': 'tight',\n",
    "        'savefig.pad_inches': 0.1,\n",
    "        'font.size': 16}\n",
    ")\n",
    "\n",
    "import matplotlib.pyplot as plt\n",
    "import numpy as np\n",
    "\n",
    "# Metric labels\n",
    "metrics = ['KE\\n[Joules$\\\\times10^{18}$]', 'APE\\n[Joules$\\\\times10^{20}$]', 'Potential\\ntemperature\\n[$^\\circ$C]', 'ACC transport\\n[Sv]', 'AMOC \\nmax at $26.5^\\circ$N\\n[Sv]']\n",
    "\n",
    "# Raw values of metrics for three models and observations\n",
    "model_a_raw = [2.72, 3.88, 3.44, 154.56, 15.42]\n",
    "model_b_raw = [3.91, 3.64, 3.34, 126.55, 13.19]\n",
    "model_c_raw = [3.60, 3.64, 3.37, 126.73, 13.85]\n",
    "obs_raw     = [np.nan, np.nan, 3.68, 173.30, 16.85]\n",
    "obs_errors_raw = [np.nan, np.nan, np.nan, 10.7, 1.43]\n",
    "\n",
    "# Observations always have the bar of same height\n",
    "model_a = np.array(model_a_raw) / np.array(model_a_raw)\n",
    "model_b = np.array(model_b_raw) / np.array(model_a_raw)\n",
    "model_c = np.array(model_c_raw) / np.array(model_a_raw)\n",
    "obs = np.array(obs_raw) / np.array(model_a_raw)\n",
    "obs_errors = obs_errors_raw / np.array(model_a_raw)\n",
    "\n",
    "# Bar plot setup\n",
    "x = np.arange(len(metrics))\n",
    "width = 0.2  # Adjust width for 4 bars\n",
    "\n",
    "fig, ax = plt.subplots(figsize=(11, 5))\n",
    "\n",
    "# Plot bars\n",
    "ax.bar(x - 1.5*width, model_a, width, label='Control($1/4^\\circ$)', color='tab:gray')\n",
    "ax.bar(x - 0.5*width, model_b, width, label='ANN($1/4^\\circ$)', color='tab:green')\n",
    "ax.bar(x + 0.5*width, model_c, width, label='Chang23($1/4^\\circ$)', color='tab:blue')\n",
    "ax.bar(x + 1.5*width, obs, width, label='Observations', color='k', yerr=obs_errors, error_kw=dict(ecolor='y', capsize=5, lw=2, capthick=2))\n",
    "\n",
    "# X-axis labels\n",
    "ax.set_xticks(x)\n",
    "ax.set_xticklabels(metrics, rotation=0, fontsize=14)\n",
    "\n",
    "# Remove y-axis\n",
    "ax.set_yticks([0,0.5,1,1.5,2.0], ['0','50', '100', '150','200'])\n",
    "ax.set_ylabel('% of Control simulation')\n",
    "\n",
    "# Title and legend\n",
    "#ax.set_title('Comparison of ANN to Chang et. al 2023 in global ocean model OM4', fontsize=12)\n",
    "ax.legend(loc='lower left')\n",
    "\n",
    "# Optional: Add bar value labels\n",
    "for idx in range(len(metrics)):\n",
    "    ax.text(x[idx] - 1.5*width, model_a[idx] + 0.05, f'{model_a_raw[idx]:.2f}', ha='center', fontsize=8)\n",
    "    ax.text(x[idx] - 0.5*width, model_b[idx] + 0.05, f'{model_b_raw[idx]:.2f}', ha='center', fontsize=8)\n",
    "    ax.text(x[idx] + 0.5*width, model_c[idx] + 0.05, f'{model_c_raw[idx]:.2f}', ha='center', fontsize=8)\n",
    "    if np.isnan(obs[idx]):\n",
    "        pass\n",
    "    else:\n",
    "        if idx==3:\n",
    "            ax.text(x[idx] + 1.5*width, obs[idx] + 0.1, '162.6-\\n184.0', ha='center', fontsize=8)\n",
    "        elif idx==4:\n",
    "            ax.text(x[idx] + 1.5*width, obs[idx] + 0.12, '15.42-\\n18.28', ha='center', fontsize=8)\n",
    "        else:\n",
    "            ax.text(x[idx] + 1.5*width, obs[idx] + 0.05, f'{obs_raw[idx]:.2f}', ha='center', fontsize=8)\n",
    "\n",
    "plt.ylim([0, 1.65])\n",
    "plt.grid(axis='y')\n",
    "plt.savefig('figures/Figure-4.pdf', bbox_inches='tight')"
   ]
  },
  {
   "cell_type": "code",
   "execution_count": null,
   "id": "5a69a731-f565-4692-9279-2c0adab62eb5",
   "metadata": {},
   "outputs": [],
   "source": []
  }
 ],
 "metadata": {
  "kernelspec": {
   "display_name": "environment_13_Jul_2023",
   "language": "python",
   "name": "my_env"
  },
  "language_info": {
   "codemirror_mode": {
    "name": "ipython",
    "version": 3
   },
   "file_extension": ".py",
   "mimetype": "text/x-python",
   "name": "python",
   "nbconvert_exporter": "python",
   "pygments_lexer": "ipython3",
   "version": "3.11.11"
  }
 },
 "nbformat": 4,
 "nbformat_minor": 5
}
